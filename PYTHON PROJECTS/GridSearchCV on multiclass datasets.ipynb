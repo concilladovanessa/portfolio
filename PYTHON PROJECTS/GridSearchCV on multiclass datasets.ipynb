{
 "cells": [
  {
   "cell_type": "markdown",
   "metadata": {},
   "source": [
    "# GridSearchCV on multiclass datasets\n",
    "\n",
    "### Some algorithms may already inherently be usable by GridSearchCV on multiclass datasets. Others may need to declare explicitly using either 'ovr' or 'ovo' first, before you can use GridSearchCV.\n",
    "\n",
    "Please check here for more details: [Multiclass algorithms (scikit-learn)](https://scikit-learn.org/stable/modules/multiclass.html)"
   ]
  },
  {
   "cell_type": "code",
   "execution_count": 1,
   "metadata": {},
   "outputs": [],
   "source": [
    "# Importing the required libraries\n",
    "import numpy as np\n",
    "import pandas as pd\n",
    "\n",
    "from sklearn.model_selection import train_test_split, GridSearchCV\n",
    "from sklearn.linear_model import LogisticRegression\n",
    "from sklearn.neighbors import KNeighborsClassifier\n",
    "from sklearn.naive_bayes import GaussianNB\n",
    "from sklearn.svm import LinearSVC\n",
    "from sklearn.tree import DecisionTreeClassifier\n",
    "from sklearn.ensemble import RandomForestClassifier\n",
    "\n",
    "SEED = 0"
   ]
  },
  {
   "cell_type": "code",
   "execution_count": 2,
   "metadata": {},
   "outputs": [],
   "source": [
    "# Load multiclass Iris dataset from scikit-learn\n",
    "from sklearn import datasets\n",
    "iris = datasets.load_iris()\n",
    "X = iris.data\n",
    "y = iris.target\n",
    "X_train, X_test, y_train, y_test = train_test_split(X, y, stratify=y)"
   ]
  },
  {
   "cell_type": "markdown",
   "metadata": {},
   "source": [
    "### Which scoring method to use with GridSearchCV on multiclass datasets\n",
    "\n",
    "When identifying the relevant scoring method for GridSearchCV, choose one that can work with multiclass datasets. If F1 score is preferred, then choose between: f1_micro, f1_macro, f1_weighted. If roc_auc is preferred, then choose between any of the roc_auc methods with 'ovr' or 'ovo'. If 'None' is chosen, the cross-validation will default to the scoring method of selected estimator/classifier, which usually is the model accuracy score.\n",
    "\n",
    "Please check here for more scoring methods: [Metrics and Scoring (scikit-learn)](https://scikit-learn.org/stable/modules/model_evaluation.html#scoring-parameter)"
   ]
  },
  {
   "cell_type": "code",
   "execution_count": 3,
   "metadata": {},
   "outputs": [
    {
     "name": "stdout",
     "output_type": "stream",
     "text": [
      "LogisticRegression(C=10.0, multi_class='ovr')\n",
      "{'C': 10.0, 'penalty': 'l2'}\n",
      "0.9921031746031748\n"
     ]
    }
   ],
   "source": [
    "# Hyperparameter fine-tuning for Logistic Regression on multi-class dataset\n",
    "parameters = {'penalty': ['l1', 'l2', 'elasticnet', 'none'],\n",
    "              'C': np.logspace(-2, 2, 5)}\n",
    "\n",
    "gs_clf = GridSearchCV(LogisticRegression(multi_class='ovr'),\n",
    "                      parameters, \n",
    "                      cv=5,\n",
    "                      # scoring='f1_macro',\n",
    "                      scoring='roc_auc_ovr',\n",
    "                      n_jobs=-1)\n",
    "_ = gs_clf.fit(X_train, y_train)\n",
    "\n",
    "print(gs_clf.best_estimator_)\n",
    "print(gs_clf.best_params_)\n",
    "print(gs_clf.best_score_)"
   ]
  },
  {
   "cell_type": "code",
   "execution_count": 4,
   "metadata": {},
   "outputs": [
    {
     "name": "stdout",
     "output_type": "stream",
     "text": [
      "KNeighborsClassifier(n_neighbors=11)\n",
      "{'n_neighbors': 11}\n",
      "0.9946031746031746\n"
     ]
    }
   ],
   "source": [
    "# Hyperparameter fine-tuning for K-nearest Neigobors on multi-class dataset\n",
    "parameters = {'n_neighbors': [2, 3, 4, 5, 6, 7, 8, 9, 10, 11]}\n",
    "\n",
    "gs_clf = GridSearchCV(KNeighborsClassifier(),\n",
    "                      parameters, \n",
    "                      cv=5,\n",
    "                      # scoring='f1_macro',\n",
    "                      scoring='roc_auc_ovr',\n",
    "                      n_jobs=-1)\n",
    "_ = gs_clf.fit(X_train, y_train)\n",
    "\n",
    "print(gs_clf.best_estimator_)\n",
    "print(gs_clf.best_params_)\n",
    "print(gs_clf.best_score_)"
   ]
  },
  {
   "cell_type": "code",
   "execution_count": 5,
   "metadata": {},
   "outputs": [
    {
     "name": "stdout",
     "output_type": "stream",
     "text": [
      "GaussianNB(var_smoothing=0.006579332246575682)\n",
      "{'var_smoothing': 0.006579332246575682}\n",
      "0.9933333333333334\n"
     ]
    }
   ],
   "source": [
    "# Hyperparameter fine-tuning for GassianNB on multi-class dataset\n",
    "parameters = {'var_smoothing': np.logspace(0,-9, num=100)}\n",
    "\n",
    "gs_clf = GridSearchCV(GaussianNB(),\n",
    "                      parameters, \n",
    "                      cv=5,\n",
    "                      # scoring='f1_macro',\n",
    "                      scoring='roc_auc_ovr',\n",
    "                      n_jobs=-1)\n",
    "_ = gs_clf.fit(X_train, y_train)\n",
    "\n",
    "print(gs_clf.best_estimator_)\n",
    "print(gs_clf.best_params_)\n",
    "print(gs_clf.best_score_)"
   ]
  },
  {
   "cell_type": "code",
   "execution_count": 6,
   "metadata": {},
   "outputs": [
    {
     "name": "stdout",
     "output_type": "stream",
     "text": [
      "LinearSVC(C=10.0, max_iter=1500)\n",
      "{'C': 10.0, 'max_iter': 1500, 'penalty': 'l2'}\n",
      "0.9557312252964426\n"
     ]
    },
    {
     "name": "stderr",
     "output_type": "stream",
     "text": [
      "C:\\Users\\USER\\anaconda3\\envs\\learn python 3\\lib\\site-packages\\sklearn\\svm\\_base.py:976: ConvergenceWarning: Liblinear failed to converge, increase the number of iterations.\n",
      "  warnings.warn(\"Liblinear failed to converge, increase \"\n"
     ]
    }
   ],
   "source": [
    "# Hyperparameter fine-tuning for LinearSVC on multi-class dataset\n",
    "parameters = {'penalty': ['l1', 'l2'],\n",
    "              'C': np.logspace(-2, 2, 5),\n",
    "              'max_iter': list(range(500, 3000, 500))}\n",
    "\n",
    "gs_clf = GridSearchCV(LinearSVC(multi_class='ovr'),\n",
    "                      parameters, \n",
    "                      cv=5,\n",
    "                      # scoring='f1_macro',\n",
    "                      # scoring='roc_auc_ovr',\n",
    "                      n_jobs=-1)\n",
    "_ = gs_clf.fit(X_train, y_train)\n",
    "\n",
    "print(gs_clf.best_estimator_)\n",
    "print(gs_clf.best_params_)\n",
    "print(gs_clf.best_score_)"
   ]
  },
  {
   "cell_type": "code",
   "execution_count": 7,
   "metadata": {},
   "outputs": [
    {
     "name": "stdout",
     "output_type": "stream",
     "text": [
      "DecisionTreeClassifier(criterion='entropy', max_depth=10, min_samples_split=5)\n",
      "{'criterion': 'entropy', 'max_depth': 10, 'min_samples_split': 5}\n",
      "0.9634325396825398\n"
     ]
    }
   ],
   "source": [
    "# Hyperparameter fine-tuning for Decision Tree on multi-class dataset\n",
    "parameters = {'criterion': ['gini', 'entropy'],\n",
    "              'max_depth': [5, 10, 15, 20],\n",
    "              'min_samples_split': [2, 3, 5]}\n",
    "\n",
    "gs_clf = GridSearchCV(DecisionTreeClassifier(),\n",
    "                      parameters, \n",
    "                      cv=5,\n",
    "                      # scoring='f1_macro',\n",
    "                      scoring='roc_auc_ovr',\n",
    "                      n_jobs=-1)\n",
    "_ = gs_clf.fit(X_train, y_train)\n",
    "\n",
    "print(gs_clf.best_estimator_)\n",
    "print(gs_clf.best_params_)\n",
    "print(gs_clf.best_score_)"
   ]
  },
  {
   "cell_type": "code",
   "execution_count": 8,
   "metadata": {},
   "outputs": [
    {
     "name": "stdout",
     "output_type": "stream",
     "text": [
      "RandomForestClassifier(max_depth=15, min_samples_split=5, n_estimators=150)\n",
      "{'criterion': 'gini', 'max_depth': 15, 'min_samples_split': 5, 'n_estimators': 150}\n",
      "0.9915476190476191\n"
     ]
    }
   ],
   "source": [
    "# Hyperparameter fine-tuning for Random Forest on multi-class dataset\n",
    "parameters = {'n_estimators': [50, 100, 150, 250],\n",
    "              'criterion': ['gini', 'entropy'],\n",
    "              'max_depth': [5, 10, 15, 20],\n",
    "              'min_samples_split': [2, 3, 5]}\n",
    "\n",
    "gs_clf = GridSearchCV(RandomForestClassifier(),\n",
    "                      parameters, \n",
    "                      cv=5,\n",
    "                      # scoring='f1_macro',\n",
    "                      scoring='roc_auc_ovr',\n",
    "                      n_jobs=-1)\n",
    "_ = gs_clf.fit(X_train, y_train)\n",
    "\n",
    "print(gs_clf.best_estimator_)\n",
    "print(gs_clf.best_params_)\n",
    "print(gs_clf.best_score_)"
   ]
  }
 ],
 "metadata": {
  "kernelspec": {
   "display_name": "Python 3 (ipykernel)",
   "language": "python",
   "name": "python3"
  },
  "language_info": {
   "codemirror_mode": {
    "name": "ipython",
    "version": 3
   },
   "file_extension": ".py",
   "mimetype": "text/x-python",
   "name": "python",
   "nbconvert_exporter": "python",
   "pygments_lexer": "ipython3",
   "version": "3.11.7"
  }
 },
 "nbformat": 4,
 "nbformat_minor": 4
}
